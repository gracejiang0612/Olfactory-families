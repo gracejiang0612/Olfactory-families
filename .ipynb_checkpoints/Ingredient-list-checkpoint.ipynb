{
 "cells": [
  {
   "cell_type": "code",
   "execution_count": 12,
   "id": "07d1967f-09a9-4dc0-a7c5-7ef87aa225a1",
   "metadata": {},
   "outputs": [],
   "source": [
    "import pandas as pd\n",
    "df = pd.read_csv(\"/Users/Grace/Desktop/2025-studio/project-1/Most-popular-perfume.csv\")\n",
    "df.head()\n",
    "ingredients_list = df[\"Ingredients\"].dropna().str.split(\", \")\n",
    "all_ingredients = [ingredient for sublist in ingredients_list for ingredient in sublist]\n",
    "ingredients_df = pd.DataFrame(all_ingredients, columns=[\"Ingredient\"])\n",
    "top_in_df = ingredients_df[\"Ingredient\"].value_counts()\n",
    "top_in_df = top_in.reset_index()\n",
    "top_in_df.columns = [\"Ingredient\", \"Count\"]\n",
    "top_in_df\n",
    "top_in_df.to_csv(\"/Users/Grace/Desktop/2025-studio/project-1/top_ingredients.csv\", index=False)\n",
    "\n",
    "\n"
   ]
  },
  {
   "cell_type": "code",
   "execution_count": null,
   "id": "30827bd1-66dc-42ee-a0b4-c3d0bfcc949e",
   "metadata": {},
   "outputs": [],
   "source": []
  }
 ],
 "metadata": {
  "kernelspec": {
   "display_name": "Python 3 (ipykernel)",
   "language": "python",
   "name": "python3"
  },
  "language_info": {
   "codemirror_mode": {
    "name": "ipython",
    "version": 3
   },
   "file_extension": ".py",
   "mimetype": "text/x-python",
   "name": "python",
   "nbconvert_exporter": "python",
   "pygments_lexer": "ipython3",
   "version": "3.12.7"
  }
 },
 "nbformat": 4,
 "nbformat_minor": 5
}
