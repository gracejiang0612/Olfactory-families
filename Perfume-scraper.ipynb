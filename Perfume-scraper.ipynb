{
 "cells": [
  {
   "cell_type": "code",
   "execution_count": 3,
   "id": "59a05cfb-3ab6-4e81-a9d8-a59f846f9a8d",
   "metadata": {},
   "outputs": [
    {
     "name": "stdout",
     "output_type": "stream",
     "text": [
      "Search URL: https://www.wikiparfum.com/en/?q=Coco%20Mademoiselle%20-%20Chanel\n"
     ]
    }
   ],
   "source": [
    "#test\n",
    "\n",
    "perfume_name = \"Coco Mademoiselle - Chanel\" \n",
    "base_url = \"https://www.wikiparfum.com/en/\"\n",
    "search_url = base_url + \"?q=\" + urllib.parse.quote(perfume_name)\n",
    "\n",
    "print(\"Search URL:\", search_url)\n"
   ]
  },
  {
   "cell_type": "code",
   "execution_count": 6,
   "id": "46d8fe87-1082-4684-83e2-58519d9c9b64",
   "metadata": {},
   "outputs": [
    {
     "name": "stdout",
     "output_type": "stream",
     "text": [
      "Scraped: https://www.wikiparfum.com/en/fragrances/valentino-donna-born-in-roma - Family: WOODY, Subfamily: AMBERY (ORIENTAL), Ingredients: Cashmeran (Woody musky), Blackcurrant Bud, Jasmine (Grandiflorum), Bergamot, Vanilla (Bourbon), Pink Pepper, Jasmine (Sambac), Cashmeran (Woody musky), Blackcurrant Bud, Jasmine (Grandiflorum), Bergamot, Vanilla (Bourbon), Pink Pepper, Jasmine (Sambac)\n"
     ]
    },
    {
     "name": "stderr",
     "output_type": "stream",
     "text": [
      "/var/folders/06/fr02k8p12_z2m6sdrpjqt7zr0000gn/T/ipykernel_1919/38799672.py:54: FutureWarning: Setting an item of incompatible dtype is deprecated and will raise an error in a future version of pandas. Value 'WOODY' has dtype incompatible with float64, please explicitly cast to a compatible dtype first.\n",
      "  df.at[index, \"Family\"] = family\n",
      "/var/folders/06/fr02k8p12_z2m6sdrpjqt7zr0000gn/T/ipykernel_1919/38799672.py:55: FutureWarning: Setting an item of incompatible dtype is deprecated and will raise an error in a future version of pandas. Value 'AMBERY (ORIENTAL)' has dtype incompatible with float64, please explicitly cast to a compatible dtype first.\n",
      "  df.at[index, \"Subfamily\"] = subfamily\n",
      "/var/folders/06/fr02k8p12_z2m6sdrpjqt7zr0000gn/T/ipykernel_1919/38799672.py:56: FutureWarning: Setting an item of incompatible dtype is deprecated and will raise an error in a future version of pandas. Value 'Cashmeran (Woody musky), Blackcurrant Bud, Jasmine (Grandiflorum), Bergamot, Vanilla (Bourbon), Pink Pepper, Jasmine (Sambac), Cashmeran (Woody musky), Blackcurrant Bud, Jasmine (Grandiflorum), Bergamot, Vanilla (Bourbon), Pink Pepper, Jasmine (Sambac)' has dtype incompatible with float64, please explicitly cast to a compatible dtype first.\n",
      "  df.at[index, \"Ingredients\"] = ingredients\n"
     ]
    },
    {
     "name": "stdout",
     "output_type": "stream",
     "text": [
      "Scraped: https://www.wikiparfum.com/en/fragrances/coco-mademoiselle-eau-de-parfum - Family: CHYPRE, Subfamily: FRUITY, Ingredients: Patchouli, Rose, Vanilla, Jasmine, Vetiver, Bergamot, Patchouli, Rose, Vanilla, Jasmine, Vetiver, Bergamot\n",
      "Scraped: https://www.wikiparfum.com/en/fragrances/miss-dior-parfum - Family: FLORAL, Subfamily: FRUITY, Ingredients: Jasmine, Mandarin, Cedarwood (Alaska), Strawberry, Patchouli, Jasmine, Mandarin, Cedarwood (Alaska), Strawberry, Patchouli\n",
      "Scraped: https://www.wikiparfum.com/en/fragrances/good-girl-blush - Family: AMBERY (ORIENTAL), Subfamily: FLORAL, Ingredients: Vanilla (Madagascar), Ylang-ylang (Madagascar), Rose, Peony, Bergamot, Mandarin, Tonka Bean, Vanilla (Madagascar), Ylang-ylang (Madagascar), Rose, Peony, Bergamot, Mandarin, Tonka Bean\n",
      "Scraped: https://www.wikiparfum.com/en/fragrances/paradoxe-1 - Family: FLORAL, Subfamily: AMBERY (ORIENTAL), Ingredients: Neroli, Jasmine (Sambac), Ambrofix (Ambergris), Serenolide (Musk), Vanilla (Bourbon), Bergamot, Pear, Tangerine, Benzoin (Laos), Orange Blossom (Tunisia), Neroli, Jasmine (Sambac), Ambrofix (Ambergris), Serenolide (Musk), Vanilla (Bourbon), Bergamot, Pear, Tangerine, Benzoin (Laos), Orange Blossom (Tunisia)\n",
      "Scraped: https://www.wikiparfum.com/en/fragrances/libre - Family: FLORAL, Subfamily: AMBERY (ORIENTAL), Ingredients: Orange Blossom (Morocco), Vanilla (Madagascar), Lavender (Provence), Jasmine (Sambac), Mandarin, Petitgrain, Blackcurrant Bud, Jasmine (Grandiflorum), Ambergris, Cedarwood, Musk, Orange Blossom (Morocco), Vanilla (Madagascar), Lavender (Provence), Jasmine (Sambac), Mandarin, Petitgrain, Blackcurrant Bud, Jasmine (Grandiflorum), Ambergris, Cedarwood, Musk\n",
      "Scraped: https://www.wikiparfum.com/en/fragrances/burberry-her - Family: FLORAL, Subfamily: FRUITY, Ingredients: Jasmine, Dry Amber, Violet, Musk, Blackberry, Cherry, Raspberry, Strawberry, Oakmoss, Jasmine, Dry Amber, Violet, Musk, Blackberry, Cherry, Raspberry, Strawberry, Oakmoss\n",
      "Scraped: https://www.wikiparfum.com/en/fragrances/burberry-goddess - Family: AMBERY (ORIENTAL), Subfamily: GOURMAND, Ingredients: Vanilla, Bergamot, Lavender, Vanilla, Bergamot, Lavender\n",
      "Scraped: https://www.wikiparfum.com/en/fragrances/valentino-donna-born-in-roma - Family: WOODY, Subfamily: AMBERY (ORIENTAL), Ingredients: Cashmeran (Woody musky), Blackcurrant Bud, Jasmine (Grandiflorum), Bergamot, Vanilla (Bourbon), Pink Pepper, Jasmine (Sambac), Cashmeran (Woody musky), Blackcurrant Bud, Jasmine (Grandiflorum), Bergamot, Vanilla (Bourbon), Pink Pepper, Jasmine (Sambac)\n",
      "Scraped: https://www.wikiparfum.com/en/fragrances/black-opium - Family: AMBERY (ORIENTAL), Subfamily: GOURMAND, Ingredients: Vanilla, Coffee, Jasmine, Pear, Pink Pepper, Cedarwood, Floral Notes, Mandarin, Orange Blossom, Patchouli, Vanilla, Coffee, Jasmine, Pear, Pink Pepper, Cedarwood, Floral Notes, Mandarin, Orange Blossom, Patchouli\n",
      "Scraped: https://www.wikiparfum.com/en/fragrances/daisy-wild - Family: FLORAL, Subfamily: GREEN, Ingredients: Jasmine, Vetiver, Sandalwood, Jasmine, Vetiver, Sandalwood\n",
      "Scraped: https://www.wikiparfum.com/en/fragrances/la-vie-est-belle-leau-de-parfum - Family: FLORAL, Subfamily: AMBERY (ORIENTAL), Ingredients: Iris (Pallida), Caramel, Patchouli, Pear, Jasmine (Sambac), Blackberry, Orange Blossom, Iris (Pallida), Caramel, Patchouli, Pear, Jasmine (Sambac), Blackberry, Orange Blossom\n",
      "Scraped: https://www.wikiparfum.com/en/fragrances/idole - Family: FLORAL, Subfamily: FRUITY, Ingredients: Jasmine, Pear, Musk, Rose Centifolia, Bergamot, Citruses, Vanilla, Jasmine, Pear, Musk, Rose Centifolia, Bergamot, Citruses, Vanilla\n",
      "Scraped: https://www.wikiparfum.com/en/fragrances/chance-eau-tendre-eau-de-parfum-1 - Family: FLORAL, Subfamily: FRUITY, Ingredients: Jasmine, Rose, Musk, Pink Pepper, Amber, Grapefruit, Patchouli, Vanilla, Jasmine, Rose, Musk, Pink Pepper, Amber, Grapefruit, Patchouli, Vanilla\n",
      "Scraped: https://www.wikiparfum.com/en/fragrances/flowerbomb-bloom - Family: FLORAL, Subfamily: AMBERY (ORIENTAL), Ingredients: Freesia, Vanilla, Jasmine, Rose (Turkey), Mandarin, Musk, Patchouli, Freesia, Vanilla, Jasmine, Rose (Turkey), Mandarin, Musk, Patchouli\n",
      "Scraped: https://www.wikiparfum.com/en/fragrances/peony-blush-suede - Family: FLORAL, Subfamily: FLORAL, Ingredients: Peony, Suede, Red Apple, Jasmine, Tuberose, Peony, Suede, Red Apple, Jasmine, Tuberose\n",
      "Scraped: https://www.wikiparfum.com/en/fragrances/yuja - Family: CITRUS, Subfamily: CITRUS, Ingredients: Yuzu, Clary Sage, Mandarin (green), Petitgrain, Rosemary, Cedarwood, Yuzu, Clary Sage, Mandarin (green), Petitgrain, Rosemary, Cedarwood\n",
      "Scraped: https://www.wikiparfum.com/en/fragrances/english-pear-freesia-1 - Family: FLORAL, Subfamily: FRUITY, Ingredients: Pear, Freesia, Bergamot, Patchouli, Rose, Orange Blossom, Rhubarb, Amber, Musk, Woody Notes, Pear, Freesia, Bergamot, Patchouli, Rose, Orange Blossom, Rhubarb, Amber, Musk, Woody Notes\n",
      "Scraped: https://www.wikiparfum.com/en/fragrances/bitter-mandarin - Family: CITRUS, Subfamily: CITRUS, Ingredients: Mandarin, Amber, Citruses, Cardamom, Iris / Orris, Iso E Super (Cedarwood Note), Musk, Vetiver, Mandarin, Amber, Citruses, Cardamom, Iris / Orris, Iso E Super (Cedarwood Note), Musk, Vetiver\n",
      "Scraped: https://www.wikiparfum.com/en/fragrances/fleur-de-peau-eau-de-parfum-1 - Family: FLORAL, Subfamily: MUSK SKIN, Ingredients: Iris / Orris, Musk, Ambrette Seed, Rose, Pink Pepper, Ambergris, Iris / Orris, Musk, Ambrette Seed, Rose, Pink Pepper, Ambergris\n",
      "Scraped: https://www.wikiparfum.com/en/fragrances/eau-rose-eau-de-parfum - Family: FLORAL, Subfamily: FLORAL, Ingredients: Rose Damascena, Rose Centifolia, Lychee, Rose, Rose Damascena, Rose Centifolia, Lychee, Rose\n",
      "Scraped: https://www.wikiparfum.com/en/fragrances/santal-33 - Family: WOODY, Subfamily: WOODY, Ingredients: Sandalwood (Australia), Iris / Orris, Leather, Amber, Cardamom, Cedarwood, Violet, Sandalwood (Australia), Iris / Orris, Leather, Amber, Cardamom, Cedarwood, Violet\n",
      "Scraped: https://www.wikiparfum.com/en/fragrances/velvet-rose - Family: FLORAL, Subfamily: FLORAL, Ingredients: Rose, Cedarwood, Lychee, Peony, Violet, Geranium, Mandarin, Peach, Pink Pepper, Raspberry, Vanilla, Rose, Cedarwood, Lychee, Peony, Violet, Geranium, Mandarin, Peach, Pink Pepper, Raspberry, Vanilla\n",
      "Scraped: https://www.wikiparfum.com/en/fragrances/chance-eau-fraiche - Family: FLORAL, Subfamily: GREEN, Ingredients: Hyacinth, Jasmine, Vetiver, Lemon, Iris / Orris, Musk, Patchouli, Pink Pepper, Hyacinth, Jasmine, Vetiver, Lemon, Iris / Orris, Musk, Patchouli, Pink Pepper\n",
      "Scraped: https://www.wikiparfum.com/en/fragrances/allure-homme-sport - Family: CITRUS, Subfamily: WATERY, Ingredients: Mandarin, Cedarwood, Aldehyde, Neroli, Vetiver, Pepper, Tonka Bean, Amber, Mandarin, Cedarwood, Aldehyde, Neroli, Vetiver, Pepper, Tonka Bean, Amber\n",
      "Scraping completed. Data saved to Final_Perfume_Data.csv\n"
     ]
    }
   ],
   "source": [
    "import requests\n",
    "from bs4 import BeautifulSoup\n",
    "import pandas as pd\n",
    "import time\n",
    "\n",
    "# Load CSV file\n",
    "file_path = \"Cleaned_Perfume_Data.csv\"  # Update with correct path if needed\n",
    "df = pd.read_csv(file_path)\n",
    "\n",
    "# Headers to mimic a real browser request\n",
    "headers = {\n",
    "    \"User-Agent\": \"Mozilla/5.0 (Windows NT 10.0; Win64; x64) AppleWebKit/537.36 (KHTML, like Gecko) Chrome/97.0.4692.99 Safari/537.36\"\n",
    "}\n",
    "\n",
    "# Function to scrape perfume details from the given URL\n",
    "def get_perfume_info(perfume_url):\n",
    "    try:\n",
    "        response = requests.get(perfume_url, headers=headers)\n",
    "        if response.status_code != 200:\n",
    "            print(f\"Failed to fetch {perfume_url} (Status {response.status_code})\")\n",
    "            return None, None, None\n",
    "        \n",
    "        soup = BeautifulSoup(response.text, \"html.parser\")\n",
    "\n",
    "        # Extract Family\n",
    "        family_tag = soup.find(\"p\", class_=\"text-12 text-grey600 uppercase text-center\", string=\"Family\")\n",
    "        family = family_tag.find_next(\"p\").text.strip() if family_tag else \"Not Found\"\n",
    "\n",
    "        # Extract Subfamily\n",
    "        subfamily_tag = soup.find(\"p\", class_=\"text-12 text-grey600 uppercase text-center\", string=\"Subfamily\")\n",
    "        subfamily = subfamily_tag.find_next(\"p\").text.strip() if subfamily_tag else \"Not Found\"\n",
    "\n",
    "        # Extract Ingredients\n",
    "        ingredients_tags = soup.select(\"a.h-4.text-black.ps-2\")\n",
    "        ingredients = \", \".join([tag.text.strip() for tag in ingredients_tags]) if ingredients_tags else \"Not Found\"\n",
    "\n",
    "        print(f\"Scraped: {perfume_url} - Family: {family}, Subfamily: {subfamily}, Ingredients: {ingredients}\")\n",
    "        return family, subfamily, ingredients\n",
    "\n",
    "    except Exception as e:\n",
    "        print(f\"Error scraping {perfume_url}: {e}\")\n",
    "        return None, None, None\n",
    "\n",
    "# Loop through each perfume\n",
    "for index, row in df.iterrows():\n",
    "    perfume_url = row.get(\"url\")  # Ensure the column is named correctly\n",
    "\n",
    "    if pd.isna(perfume_url) or perfume_url.strip() == \"\":\n",
    "        continue\n",
    "\n",
    "    family, subfamily, ingredients = get_perfume_info(perfume_url)\n",
    "\n",
    "    # Update DataFrame\n",
    "    df.at[index, \"Family\"] = family\n",
    "    df.at[index, \"Subfamily\"] = subfamily\n",
    "    df.at[index, \"Ingredients\"] = ingredients\n",
    "\n",
    "    time.sleep(2)  # Add delay to avoid being blocked\n",
    "\n",
    "# Save results to a new CSV\n",
    "df.to_csv(\"Final_Perfume_Data.csv\", index=False)\n",
    "print(\"Scraping completed. Data saved to Final_Perfume_Data.csv\")\n"
   ]
  },
  {
   "cell_type": "code",
   "execution_count": null,
   "id": "7f32747e-3f59-4488-8143-fdb44c50ec4c",
   "metadata": {},
   "outputs": [],
   "source": []
  }
 ],
 "metadata": {
  "kernelspec": {
   "display_name": "Python 3 (ipykernel)",
   "language": "python",
   "name": "python3"
  },
  "language_info": {
   "codemirror_mode": {
    "name": "ipython",
    "version": 3
   },
   "file_extension": ".py",
   "mimetype": "text/x-python",
   "name": "python",
   "nbconvert_exporter": "python",
   "pygments_lexer": "ipython3",
   "version": "3.12.7"
  }
 },
 "nbformat": 4,
 "nbformat_minor": 5
}
